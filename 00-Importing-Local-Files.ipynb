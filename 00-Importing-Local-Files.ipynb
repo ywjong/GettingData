{
 "cells": [
  {
   "cell_type": "markdown",
   "metadata": {},
   "source": [
    "## Importing delimited text files\n",
    "Importing delimited text files can be accomplished using a variety of modules in Python. This notebook will cover pure python, the `csv` module, the `NumPy` module and `Pandas`. We'll use a sample data file, located in the `data` folder, that contains a short 3x3 table with a header row:\n",
    "```\n",
    "id,x,y\n",
    "1,22,33\n",
    "2,2.4,6.8\n",
    "3,1.9,8.0\n",
    "```"
   ]
  },
  {
   "cell_type": "markdown",
   "metadata": {},
   "source": [
    "---\n",
    "## 1. Pure Python\n",
    "\n",
    "In pure Python we:\n",
    "\n",
    "1. Open the datafile in read ('r') mode\n",
    "2. Create an empty list to store the data\n",
    "3. Loop over the rows in the file\n",
    "4. Getting rid of whitespace and newline (`\\n`) characters (`.strip()`), and splitting the row into a list based on the delimiter, in this case a comma (`.split(',')`).\n",
    "\n",
    "The types of the resulting items in the list of list will always be strings, so if you need something else it will have to be converted later."
   ]
  },
  {
   "cell_type": "code",
   "execution_count": 1,
   "metadata": {},
   "outputs": [
    {
     "data": {
      "text/plain": [
       "[['id', 'x', 'y'], ['1', '22', '33'], ['2', '2.4', '6.8'], ['3', '1.9', '8.0']]"
      ]
     },
     "execution_count": 1,
     "metadata": {},
     "output_type": "execute_result"
    }
   ],
   "source": [
    "datafile = open('./data/examp_data.txt', 'r')\n",
    "data = []\n",
    "for row in datafile:\n",
    "    data.append(row.strip().split(','))\n",
    "datafile.close()\n",
    "data"
   ]
  },
  {
   "cell_type": "markdown",
   "metadata": {},
   "source": [
    "Here, our output is a *list of lists*, which is a nifty data structure that allows us to get specific elements from our data using indices: the first index will specify the row (add 1 for the header row) and the second index will specify the column. "
   ]
  },
  {
   "cell_type": "code",
   "execution_count": 2,
   "metadata": {},
   "outputs": [
    {
     "data": {
      "text/plain": [
       "'1.9'"
      ]
     },
     "execution_count": 2,
     "metadata": {},
     "output_type": "execute_result"
    }
   ],
   "source": [
    "#Get the value of the 3rd row (4th if we include the header row), and 2nd column\n",
    "data[3][1]"
   ]
  },
  {
   "cell_type": "markdown",
   "metadata": {},
   "source": [
    "► Now you try it:\n",
    "* Import the data in the `example_data2.txt` file (located in the data folder). \n",
    "* Print the value in the 4th row, 3rd column.\n",
    "The output should be:\n",
    "```\n",
    "[['A', 'B', 'C', 'D'],\n",
    " ['1.72', '3.84', '4.59', '1.36'],\n",
    " ['5.15', '6.43', '7.92', '6.26'],\n",
    " ['1.56', '8.03', '4.36', '5.10'],\n",
    " ['7.38', '1.20', '4.56', '3.49'],\n",
    " ['4.24', '7.69', '6.49', '5.28'],\n",
    " ['1.25', '9.64', '1.83', '6.84']]\n",
    " ```"
   ]
  },
  {
   "cell_type": "code",
   "execution_count": 7,
   "metadata": {},
   "outputs": [
    {
     "data": {
      "text/plain": [
       "[['A', 'B', 'C', 'D'],\n",
       " ['1.72', '3.84', '4.59', '1.36'],\n",
       " ['5.15', '6.43', '7.92', '6.26'],\n",
       " ['1.56', '8.03', '4.36', '5.10'],\n",
       " ['7.38', '1.20', '4.56', '3.49'],\n",
       " ['4.24', '7.69', '6.49', '5.28'],\n",
       " ['1.25', '9.64', '1.83', '6.84']]"
      ]
     },
     "execution_count": 7,
     "metadata": {},
     "output_type": "execute_result"
    }
   ],
   "source": [
    "# Exercise 1:\n",
    "datafile = open('./data/example_data2.txt','r')\n",
    "data_ex1 = []\n",
    "for row in datafile:\n",
    "    data_ex1.append(row.strip().split(','))\n",
    "datafile.close()\n",
    "data_ex1\n",
    "                "
   ]
  },
  {
   "cell_type": "code",
   "execution_count": 8,
   "metadata": {},
   "outputs": [
    {
     "data": {
      "text/plain": [
       "'4.36'"
      ]
     },
     "execution_count": 8,
     "metadata": {},
     "output_type": "execute_result"
    }
   ],
   "source": [
    "data_ex1[3][2]"
   ]
  },
  {
   "cell_type": "markdown",
   "metadata": {},
   "source": [
    "---\n",
    "## 2. CSV Module [link](https://pymotw.com/3/csv/)\n",
    "The built-in `csv` module gives us a bit more command over delimited files. Here we see how it handles the parsing and striping off line feed characters. However, the `csv` module can handle a number of different formatting nuances. \n",
    "\n",
    "In the csv module we:\n",
    "\n",
    "1. Open the datafile in read ('r') mode\n",
    "2. Create a *reader* object with that file, specifying the delimiter (the default is a comma, but it is explicitly specified here for clarity).\n",
    "3. Create an empty list to store the data.\n",
    "4. Loop over the rows in the reader appending each row to the list\n",
    "\n",
    "The types of the resulting items in the list of list will always be strings, so if you need something else it will have to be converted later."
   ]
  },
  {
   "cell_type": "code",
   "execution_count": 1,
   "metadata": {},
   "outputs": [
    {
     "data": {
      "text/plain": [
       "[['id', 'x', 'y'], ['1', '22', '33'], ['2', '2.4', '6.8'], ['3', '1.9', '8.0']]"
      ]
     },
     "execution_count": 1,
     "metadata": {},
     "output_type": "execute_result"
    }
   ],
   "source": [
    "import csv\n",
    "datafile = open('./data/examp_data.txt', 'r')\n",
    "datareader = csv.reader(datafile, delimiter=',')\n",
    "data = []\n",
    "for row in datareader:\n",
    "    data.append(row)\n",
    "data"
   ]
  },
  {
   "cell_type": "code",
   "execution_count": null,
   "metadata": {},
   "outputs": [],
   "source": [
    "#As above, print the value in the 3rd row, 2nd column\n",
    "data[3][1]"
   ]
  },
  {
   "cell_type": "markdown",
   "metadata": {},
   "source": [
    "► Now you try it:\n",
    "* Use the `csv` module to import the data in the `example_data2.txt` file (located in the data folder). \n",
    "* Print the value in the 4th row, 3rd column."
   ]
  },
  {
   "cell_type": "code",
   "execution_count": 9,
   "metadata": {},
   "outputs": [
    {
     "data": {
      "text/plain": [
       "[['A', 'B', 'C', 'D'],\n",
       " ['1.72', '3.84', '4.59', '1.36'],\n",
       " ['5.15', '6.43', '7.92', '6.26'],\n",
       " ['1.56', '8.03', '4.36', '5.10'],\n",
       " ['7.38', '1.20', '4.56', '3.49'],\n",
       " ['4.24', '7.69', '6.49', '5.28'],\n",
       " ['1.25', '9.64', '1.83', '6.84']]"
      ]
     },
     "execution_count": 9,
     "metadata": {},
     "output_type": "execute_result"
    }
   ],
   "source": [
    "#Exercise 2:\n",
    "import csv\n",
    "data = open('./data/example_data2.txt','r')\n",
    "readdata = csv.reader(data, delimiter = ',')\n",
    "data_ex2 = []\n",
    "for rows in readdata:\n",
    "    data_ex2.append(rows)\n",
    "data_ex2"
   ]
  },
  {
   "cell_type": "code",
   "execution_count": 10,
   "metadata": {},
   "outputs": [
    {
     "data": {
      "text/plain": [
       "'4.36'"
      ]
     },
     "execution_count": 10,
     "metadata": {},
     "output_type": "execute_result"
    }
   ],
   "source": [
    "data_ex2[3][2]"
   ]
  },
  {
   "cell_type": "markdown",
   "metadata": {},
   "source": [
    "---\n",
    "## 3. Using [`NumPy`](http://www.numpy.org/)\n",
    "\n",
    "Here we introduce **NumPy**, a powerful Python package for working with numeric arrays. Importing and using Numpy will import the data into a Numpy array, a commonly used data structure for scientific programming.\n",
    "\n",
    "Using Numpy we simply use the `genfromtxt()` function to directly import the data. `genfromtxt()` has a lot of options for controlling what and how gets imported. See the docs page for details: http://docs.scipy.org/doc/numpy/reference/generated/numpy.genfromtxt.html\n",
    "\n",
    "Numpy will **autodetect** the data type, so we'll often want to leave off the header row(s) (`skip_header=True`). We could keep them using the `names=True` argument, and also columns with different data types, but that creates a structured array and if we want to work with that type of data we're typically better off using pandas (see below)."
   ]
  },
  {
   "cell_type": "code",
   "execution_count": 23,
   "metadata": {},
   "outputs": [
    {
     "data": {
      "text/plain": [
       "array([[ 1. , 22. , 33. ],\n",
       "       [ 2. ,  2.4,  6.8],\n",
       "       [ 3. ,  1.9,  8. ]])"
      ]
     },
     "execution_count": 23,
     "metadata": {},
     "output_type": "execute_result"
    }
   ],
   "source": [
    "import numpy\n",
    "data = numpy.genfromtxt('./data/examp_data.txt', \n",
    "                        delimiter = ',',\n",
    "                        skip_header=True)\n",
    "#genfromtxt = generate from text\n",
    "#numpy does number only\n",
    "data"
   ]
  },
  {
   "cell_type": "code",
   "execution_count": 24,
   "metadata": {},
   "outputs": [
    {
     "data": {
      "text/plain": [
       "1.9"
      ]
     },
     "execution_count": 24,
     "metadata": {},
     "output_type": "execute_result"
    }
   ],
   "source": [
    "#As above, print the value in the 3rd row, 2nd column\n",
    "data[2,1]"
   ]
  },
  {
   "cell_type": "code",
   "execution_count": null,
   "metadata": {},
   "outputs": [],
   "source": [
    "import numpy\n",
    "data = numpy.genfromtxt('./data/examp_data.txt', \n",
    "                        delimiter = ','\n",
    "                        )\n",
    "#genfromtxt = generate from text\n",
    "#numpy processes number only\n",
    "#so if the skip_header argument was taken out, the header will be displayed as nan as below\n",
    "data"
   ]
  },
  {
   "cell_type": "markdown",
   "metadata": {},
   "source": [
    "► Now you try it:\n",
    "* Use `NumPy` to import the data in the `example_data2.txt` file (located in the data folder). \n",
    "* Print the value in the 4th row, 3rd column."
   ]
  },
  {
   "cell_type": "code",
   "execution_count": 12,
   "metadata": {},
   "outputs": [
    {
     "data": {
      "text/plain": [
       "array([[1.72, 3.84, 4.59, 1.36],\n",
       "       [5.15, 6.43, 7.92, 6.26],\n",
       "       [1.56, 8.03, 4.36, 5.1 ],\n",
       "       [7.38, 1.2 , 4.56, 3.49],\n",
       "       [4.24, 7.69, 6.49, 5.28],\n",
       "       [1.25, 9.64, 1.83, 6.84]])"
      ]
     },
     "execution_count": 12,
     "metadata": {},
     "output_type": "execute_result"
    }
   ],
   "source": [
    "#Exercise 3:\n",
    "import numpy\n",
    "data_ex3 = numpy.genfromtxt('./data/example_data2.txt',\n",
    "                           delimiter = \",\",\n",
    "                           skip_header=True)\n",
    "data_ex3"
   ]
  },
  {
   "cell_type": "code",
   "execution_count": 14,
   "metadata": {},
   "outputs": [
    {
     "data": {
      "text/plain": [
       "4.36"
      ]
     },
     "execution_count": 14,
     "metadata": {},
     "output_type": "execute_result"
    }
   ],
   "source": [
    "data_ex3[2][2]"
   ]
  },
  {
   "cell_type": "markdown",
   "metadata": {},
   "source": [
    "## 4. Using [`Pandas`](https://pandas.pydata.org/)\n",
    "\n",
    "Pandas is a powerful data management library that produces data structures and associated tools that are ideal for scientific computing tasks related to data. In particular, it produces a dataframe object that is much like R's dataframe and is designed to hold data with the standard structure of one row per record and one column per type of data (or field).\n",
    "\n",
    "#Panda deals with dataframes well, and its name was coined by combining panel+data\n",
    "\n",
    "#In Pandas we just use the `read_csv()` function to import text files. It has a lot of options, but will do most things automatically including detecting delimiters and detecting data types."
   ]
  },
  {
   "cell_type": "code",
   "execution_count": 16,
   "metadata": {},
   "outputs": [
    {
     "data": {
      "text/html": [
       "<div>\n",
       "<style scoped>\n",
       "    .dataframe tbody tr th:only-of-type {\n",
       "        vertical-align: middle;\n",
       "    }\n",
       "\n",
       "    .dataframe tbody tr th {\n",
       "        vertical-align: top;\n",
       "    }\n",
       "\n",
       "    .dataframe thead th {\n",
       "        text-align: right;\n",
       "    }\n",
       "</style>\n",
       "<table border=\"1\" class=\"dataframe\">\n",
       "  <thead>\n",
       "    <tr style=\"text-align: right;\">\n",
       "      <th></th>\n",
       "      <th>id</th>\n",
       "      <th>x</th>\n",
       "      <th>y</th>\n",
       "    </tr>\n",
       "  </thead>\n",
       "  <tbody>\n",
       "    <tr>\n",
       "      <th>0</th>\n",
       "      <td>1</td>\n",
       "      <td>22.0</td>\n",
       "      <td>33.0</td>\n",
       "    </tr>\n",
       "    <tr>\n",
       "      <th>1</th>\n",
       "      <td>2</td>\n",
       "      <td>2.4</td>\n",
       "      <td>6.8</td>\n",
       "    </tr>\n",
       "    <tr>\n",
       "      <th>2</th>\n",
       "      <td>3</td>\n",
       "      <td>1.9</td>\n",
       "      <td>8.0</td>\n",
       "    </tr>\n",
       "  </tbody>\n",
       "</table>\n",
       "</div>"
      ],
      "text/plain": [
       "   id     x     y\n",
       "0   1  22.0  33.0\n",
       "1   2   2.4   6.8\n",
       "2   3   1.9   8.0"
      ]
     },
     "execution_count": 16,
     "metadata": {},
     "output_type": "execute_result"
    }
   ],
   "source": [
    "\n",
    "import pandas as pd\n",
    "data = pd.read_csv('./data/examp_data.txt')\n",
    "data"
   ]
  },
  {
   "cell_type": "markdown",
   "metadata": {},
   "source": [
    "In Pandas, the `iloc[]` function (short for \"index location\") allows us to extract data at a certain row/column coordinate."
   ]
  },
  {
   "cell_type": "code",
   "execution_count": 17,
   "metadata": {},
   "outputs": [
    {
     "data": {
      "text/plain": [
       "1.9"
      ]
     },
     "execution_count": 17,
     "metadata": {},
     "output_type": "execute_result"
    }
   ],
   "source": [
    "#As above, print the value in the 3rd row, 2nd column\n",
    "data.iloc[2,1]"
   ]
  },
  {
   "cell_type": "markdown",
   "metadata": {},
   "source": [
    "Pandas can also retrieve values from indices we provide (as opposed to row/column coordinates). For this, we use the `loc[]` function. The example below pulls data from row with the index \"2\" and column \"x\":"
   ]
  },
  {
   "cell_type": "code",
   "execution_count": 18,
   "metadata": {},
   "outputs": [
    {
     "data": {
      "text/plain": [
       "1.9"
      ]
     },
     "execution_count": 18,
     "metadata": {},
     "output_type": "execute_result"
    }
   ],
   "source": [
    "data.loc[2,'x']"
   ]
  },
  {
   "cell_type": "markdown",
   "metadata": {},
   "source": [
    "Pandas dataframes do behave a bit differently than a lot of list based structures in Python, but we'll learn how to work with them soon. If you just want to pull the core data out of a dataframe you can do this using the values member (a member is just a variable associated with an object)."
   ]
  },
  {
   "cell_type": "code",
   "execution_count": 7,
   "metadata": {},
   "outputs": [
    {
     "data": {
      "text/plain": [
       "array([[ 1. , 22. , 33. ],\n",
       "       [ 2. ,  2.4,  6.8],\n",
       "       [ 3. ,  1.9,  8. ]])"
      ]
     },
     "execution_count": 7,
     "metadata": {},
     "output_type": "execute_result"
    }
   ],
   "source": [
    "#Extract the data from a Pandas data frame into a numpy array\n",
    "data.values"
   ]
  },
  {
   "cell_type": "code",
   "execution_count": 19,
   "metadata": {},
   "outputs": [
    {
     "data": {
      "text/plain": [
       "1.9"
      ]
     },
     "execution_count": 19,
     "metadata": {},
     "output_type": "execute_result"
    }
   ],
   "source": [
    "#Extract a single value from a specified row/column\n",
    "data.values[2][1]"
   ]
  },
  {
   "cell_type": "markdown",
   "metadata": {},
   "source": [
    "► Now you try it:\n",
    "* Use `Pandas` to import the data in the `example_data2.txt` file (located in the data folder). \n",
    "* Print the value in the 4th row, 3rd column."
   ]
  },
  {
   "cell_type": "code",
   "execution_count": 20,
   "metadata": {},
   "outputs": [
    {
     "data": {
      "text/html": [
       "<div>\n",
       "<style scoped>\n",
       "    .dataframe tbody tr th:only-of-type {\n",
       "        vertical-align: middle;\n",
       "    }\n",
       "\n",
       "    .dataframe tbody tr th {\n",
       "        vertical-align: top;\n",
       "    }\n",
       "\n",
       "    .dataframe thead th {\n",
       "        text-align: right;\n",
       "    }\n",
       "</style>\n",
       "<table border=\"1\" class=\"dataframe\">\n",
       "  <thead>\n",
       "    <tr style=\"text-align: right;\">\n",
       "      <th></th>\n",
       "      <th>A</th>\n",
       "      <th>B</th>\n",
       "      <th>C</th>\n",
       "      <th>D</th>\n",
       "    </tr>\n",
       "  </thead>\n",
       "  <tbody>\n",
       "    <tr>\n",
       "      <th>0</th>\n",
       "      <td>1.72</td>\n",
       "      <td>3.84</td>\n",
       "      <td>4.59</td>\n",
       "      <td>1.36</td>\n",
       "    </tr>\n",
       "    <tr>\n",
       "      <th>1</th>\n",
       "      <td>5.15</td>\n",
       "      <td>6.43</td>\n",
       "      <td>7.92</td>\n",
       "      <td>6.26</td>\n",
       "    </tr>\n",
       "    <tr>\n",
       "      <th>2</th>\n",
       "      <td>1.56</td>\n",
       "      <td>8.03</td>\n",
       "      <td>4.36</td>\n",
       "      <td>5.10</td>\n",
       "    </tr>\n",
       "    <tr>\n",
       "      <th>3</th>\n",
       "      <td>7.38</td>\n",
       "      <td>1.20</td>\n",
       "      <td>4.56</td>\n",
       "      <td>3.49</td>\n",
       "    </tr>\n",
       "    <tr>\n",
       "      <th>4</th>\n",
       "      <td>4.24</td>\n",
       "      <td>7.69</td>\n",
       "      <td>6.49</td>\n",
       "      <td>5.28</td>\n",
       "    </tr>\n",
       "    <tr>\n",
       "      <th>5</th>\n",
       "      <td>1.25</td>\n",
       "      <td>9.64</td>\n",
       "      <td>1.83</td>\n",
       "      <td>6.84</td>\n",
       "    </tr>\n",
       "  </tbody>\n",
       "</table>\n",
       "</div>"
      ],
      "text/plain": [
       "      A     B     C     D\n",
       "0  1.72  3.84  4.59  1.36\n",
       "1  5.15  6.43  7.92  6.26\n",
       "2  1.56  8.03  4.36  5.10\n",
       "3  7.38  1.20  4.56  3.49\n",
       "4  4.24  7.69  6.49  5.28\n",
       "5  1.25  9.64  1.83  6.84"
      ]
     },
     "execution_count": 20,
     "metadata": {},
     "output_type": "execute_result"
    }
   ],
   "source": [
    "#Exercise 4:\n",
    "import pandas as pd\n",
    "\n",
    "data_ex4 = pd.read_csv(\"./data/example_data2.txt\")\n",
    "data_ex4"
   ]
  },
  {
   "cell_type": "code",
   "execution_count": 25,
   "metadata": {},
   "outputs": [
    {
     "data": {
      "text/plain": [
       "4.36"
      ]
     },
     "execution_count": 25,
     "metadata": {},
     "output_type": "execute_result"
    }
   ],
   "source": [
    "data_ex4.iloc[2,2]"
   ]
  },
  {
   "cell_type": "code",
   "execution_count": 26,
   "metadata": {},
   "outputs": [
    {
     "data": {
      "text/plain": [
       "4.36"
      ]
     },
     "execution_count": 26,
     "metadata": {},
     "output_type": "execute_result"
    }
   ],
   "source": [
    "data_ex4.values[2][2]"
   ]
  },
  {
   "cell_type": "code",
   "execution_count": null,
   "metadata": {},
   "outputs": [],
   "source": []
  }
 ],
 "metadata": {
  "kernelspec": {
   "display_name": "Python 3",
   "language": "python",
   "name": "python3"
  },
  "language_info": {
   "codemirror_mode": {
    "name": "ipython",
    "version": 3
   },
   "file_extension": ".py",
   "mimetype": "text/x-python",
   "name": "python",
   "nbconvert_exporter": "python",
   "pygments_lexer": "ipython3",
   "version": "3.6.5"
  }
 },
 "nbformat": 4,
 "nbformat_minor": 1
}
